{
 "cells": [
  {
   "cell_type": "code",
   "execution_count": 1,
   "id": "e4a4a62c-4f83-4ed1-b006-2e843a5a75f9",
   "metadata": {},
   "outputs": [],
   "source": [
    "import pandas as pd"
   ]
  },
  {
   "cell_type": "code",
   "execution_count": 13,
   "id": "d37575b5-8b32-4109-9818-6cf4ff48b3e5",
   "metadata": {},
   "outputs": [],
   "source": [
    "grants_budgets_data = pd.read_excel(\"Grants Budgets and Payments.xlsx\",sheet_name='Final')"
   ]
  },
  {
   "cell_type": "code",
   "execution_count": 14,
   "id": "0873acd9-c5db-4a71-ae16-cee4c0549d7a",
   "metadata": {},
   "outputs": [
    {
     "name": "stdout",
     "output_type": "stream",
     "text": [
      "<class 'pandas.core.frame.DataFrame'>\n",
      "RangeIndex: 18347 entries, 0 to 18346\n",
      "Data columns (total 3 columns):\n",
      " #   Column           Non-Null Count  Dtype  \n",
      "---  ------           --------------  -----  \n",
      " 0   GRANT_ID         18347 non-null  int64  \n",
      " 1   APPROVED_AMOUNT  18206 non-null  float64\n",
      " 2   TOTAL_PAID       14753 non-null  float64\n",
      "dtypes: float64(2), int64(1)\n",
      "memory usage: 430.1 KB\n"
     ]
    }
   ],
   "source": [
    "grants_budgets_data.info()"
   ]
  },
  {
   "cell_type": "code",
   "execution_count": 17,
   "id": "342bfd6d-b7cf-44b7-8a7d-cd1e554ebae8",
   "metadata": {},
   "outputs": [],
   "source": [
    "# Step 1: Calculate REMAINING_BUDGET\n",
    "def calculate_remaining_budget(row):\n",
    "    if pd.isna(row['APPROVED_AMOUNT']) or pd.isna(row['TOTAL_PAID']):\n",
    "        return \"Unknown\"\n",
    "    elif row['TOTAL_PAID'] < row['APPROVED_AMOUNT']:\n",
    "        return \"Yes\"\n",
    "    elif row['TOTAL_PAID'] == row['APPROVED_AMOUNT']:\n",
    "        return \"No\"\n",
    "    elif row['TOTAL_PAID'] > row['APPROVED_AMOUNT']:\n",
    "        return \"Error\"\n",
    "\n",
    "grants_budgets_data['REMAINING_BUDGET'] = grants_budgets_data.apply(calculate_remaining_budget, axis=1)\n"
   ]
  },
  {
   "cell_type": "code",
   "execution_count": 29,
   "id": "37eaf9ee-b502-4895-a45e-cdd6c81a2958",
   "metadata": {},
   "outputs": [
    {
     "data": {
      "text/html": [
       "<div>\n",
       "<style scoped>\n",
       "    .dataframe tbody tr th:only-of-type {\n",
       "        vertical-align: middle;\n",
       "    }\n",
       "\n",
       "    .dataframe tbody tr th {\n",
       "        vertical-align: top;\n",
       "    }\n",
       "\n",
       "    .dataframe thead th {\n",
       "        text-align: right;\n",
       "    }\n",
       "</style>\n",
       "<table border=\"1\" class=\"dataframe\">\n",
       "  <thead>\n",
       "    <tr style=\"text-align: right;\">\n",
       "      <th></th>\n",
       "      <th>GRANT_ID</th>\n",
       "      <th>APPROVED_AMOUNT</th>\n",
       "      <th>TOTAL_PAID</th>\n",
       "      <th>REMAINING_BUDGET</th>\n",
       "    </tr>\n",
       "  </thead>\n",
       "  <tbody>\n",
       "    <tr>\n",
       "      <th>412</th>\n",
       "      <td>8905009</td>\n",
       "      <td>317000.00</td>\n",
       "      <td>NaN</td>\n",
       "      <td>Unknown</td>\n",
       "    </tr>\n",
       "    <tr>\n",
       "      <th>858</th>\n",
       "      <td>8905901</td>\n",
       "      <td>40000.00</td>\n",
       "      <td>NaN</td>\n",
       "      <td>Unknown</td>\n",
       "    </tr>\n",
       "    <tr>\n",
       "      <th>3056</th>\n",
       "      <td>29495113</td>\n",
       "      <td>52777.32</td>\n",
       "      <td>NaN</td>\n",
       "      <td>Unknown</td>\n",
       "    </tr>\n",
       "    <tr>\n",
       "      <th>3071</th>\n",
       "      <td>29523505</td>\n",
       "      <td>65922.00</td>\n",
       "      <td>NaN</td>\n",
       "      <td>Unknown</td>\n",
       "    </tr>\n",
       "    <tr>\n",
       "      <th>3075</th>\n",
       "      <td>29536801</td>\n",
       "      <td>39397.80</td>\n",
       "      <td>NaN</td>\n",
       "      <td>Unknown</td>\n",
       "    </tr>\n",
       "  </tbody>\n",
       "</table>\n",
       "</div>"
      ],
      "text/plain": [
       "      GRANT_ID  APPROVED_AMOUNT  TOTAL_PAID REMAINING_BUDGET\n",
       "412    8905009        317000.00         NaN          Unknown\n",
       "858    8905901         40000.00         NaN          Unknown\n",
       "3056  29495113         52777.32         NaN          Unknown\n",
       "3071  29523505         65922.00         NaN          Unknown\n",
       "3075  29536801         39397.80         NaN          Unknown"
      ]
     },
     "execution_count": 29,
     "metadata": {},
     "output_type": "execute_result"
    }
   ],
   "source": [
    "grants_budgets_data[grants_budgets_data['REMAINING_BUDGET'] =='Unknown'].head()"
   ]
  },
  {
   "cell_type": "code",
   "execution_count": null,
   "id": "443c0140-4c72-4002-88e9-302fefa82877",
   "metadata": {},
   "outputs": [],
   "source": [
    "\n",
    "# Step 2: Left join with study data on specified keys\n",
    "# Assuming study_data is already loaded as a DataFrame and has a column named 'GRANT_ID'\n",
    "merged_data = pd.merge(grants_budgets_data, study_data[['GRANT_ID']], how='left', left_on='NAME', right_on='GRANT_ID')\n",
    "\n",
    "# Step 3: Fill missing values in REMAINING_BUDGET with \"N/A\"\n",
    "merged_data['REMAINING_BUDGET'].fillna(\"N/A\", inplace=True)\n",
    "\n",
    "# Step 4: Now 'merged_data' has the updated REMAINING_BUDGET column and is ready for use\n"
   ]
  }
 ],
 "metadata": {
  "kernelspec": {
   "display_name": "Python 3 (ipykernel)",
   "language": "python",
   "name": "python3"
  },
  "language_info": {
   "codemirror_mode": {
    "name": "ipython",
    "version": 3
   },
   "file_extension": ".py",
   "mimetype": "text/x-python",
   "name": "python",
   "nbconvert_exporter": "python",
   "pygments_lexer": "ipython3",
   "version": "3.12.7"
  }
 },
 "nbformat": 4,
 "nbformat_minor": 5
}
